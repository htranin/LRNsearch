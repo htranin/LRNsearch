{
 "cells": [
  {
   "cell_type": "markdown",
   "metadata": {},
   "source": [
    "# Watchlist example notebook\n",
    "\n",
    "`Author: Francisco Förster, Last update: 20210411`"
   ]
  },
  {
   "cell_type": "markdown",
   "metadata": {},
   "source": [
    "Here we will do a xmatch against a list of positions in the sky, given in the file ```watchlist.csv```"
   ]
  },
  {
   "cell_type": "code",
   "execution_count": 1,
   "metadata": {
    "ExecuteTime": {
     "end_time": "2021-04-11T21:19:05.153813Z",
     "start_time": "2021-04-11T21:19:04.813677Z"
    }
   },
   "outputs": [],
   "source": [
    "import pandas as pd\n",
    "import psycopg2\n",
    "import requests"
   ]
  },
  {
   "cell_type": "markdown",
   "metadata": {},
   "source": [
    "# Get credentials to open a direct connection with the database"
   ]
  },
  {
   "cell_type": "code",
   "execution_count": 2,
   "metadata": {
    "ExecuteTime": {
     "end_time": "2021-04-11T21:19:05.271345Z",
     "start_time": "2021-04-11T21:19:05.155531Z"
    }
   },
   "outputs": [],
   "source": [
    "credentials_file = \"https://raw.githubusercontent.com/alercebroker/usecases/master/alercereaduser_v4.json\"\n",
    "params = requests.get(credentials_file).json()[\"params\"]"
   ]
  },
  {
   "cell_type": "code",
   "execution_count": 3,
   "metadata": {
    "ExecuteTime": {
     "end_time": "2021-04-11T21:19:06.380633Z",
     "start_time": "2021-04-11T21:19:05.279776Z"
    }
   },
   "outputs": [],
   "source": [
    "conn = psycopg2.connect(dbname=params[\"dbname\"], user=params[\"user\"], host=params[\"host\"], password=params[\"password\"])"
   ]
  },
  {
   "cell_type": "markdown",
   "metadata": {},
   "source": [
    "# Get watchlist of object positions"
   ]
  },
  {
   "cell_type": "code",
   "execution_count": 4,
   "metadata": {
    "ExecuteTime": {
     "end_time": "2021-04-11T21:19:08.246902Z",
     "start_time": "2021-04-11T21:19:06.382781Z"
    }
   },
   "outputs": [
    {
     "data": {
      "text/html": [
       "<div>\n",
       "<style scoped>\n",
       "    .dataframe tbody tr th:only-of-type {\n",
       "        vertical-align: middle;\n",
       "    }\n",
       "\n",
       "    .dataframe tbody tr th {\n",
       "        vertical-align: top;\n",
       "    }\n",
       "\n",
       "    .dataframe thead th {\n",
       "        text-align: right;\n",
       "    }\n",
       "</style>\n",
       "<table border=\"1\" class=\"dataframe\">\n",
       "  <thead>\n",
       "    <tr style=\"text-align: right;\">\n",
       "      <th></th>\n",
       "      <th>id_source</th>\n",
       "      <th>ra</th>\n",
       "      <th>dec</th>\n",
       "    </tr>\n",
       "  </thead>\n",
       "  <tbody>\n",
       "    <tr>\n",
       "      <th>0</th>\n",
       "      <td>source_1</td>\n",
       "      <td>160.183014</td>\n",
       "      <td>33.016467</td>\n",
       "    </tr>\n",
       "    <tr>\n",
       "      <th>1</th>\n",
       "      <td>source_2</td>\n",
       "      <td>174.215249</td>\n",
       "      <td>44.837895</td>\n",
       "    </tr>\n",
       "  </tbody>\n",
       "</table>\n",
       "</div>"
      ],
      "text/plain": [
       "  id_source          ra        dec\n",
       "0  source_1  160.183014  33.016467\n",
       "1  source_2  174.215249  44.837895"
      ]
     },
     "execution_count": 4,
     "metadata": {},
     "output_type": "execute_result"
    }
   ],
   "source": [
    "df = pd.read_csv(\"https://github.com/alercebroker/usecases/blob/master/example_data/watchlist.csv?raw=True\")\n",
    "df.head()"
   ]
  },
  {
   "cell_type": "markdown",
   "metadata": {},
   "source": [
    "# Prepare the query string for watchlist for object within 1 degress of given positions, and  happening within the last 10 days"
   ]
  },
  {
   "cell_type": "code",
   "execution_count": 5,
   "metadata": {
    "ExecuteTime": {
     "end_time": "2021-04-11T21:19:08.255447Z",
     "start_time": "2021-04-11T21:19:08.248711Z"
    }
   },
   "outputs": [
    {
     "data": {
      "text/plain": [
       "\"('source_1', 160.18301441363647, 33.0164673528409),\\n('source_2', 174.21524897555545, 44.83789535222221)\""
      ]
     },
     "execution_count": 5,
     "metadata": {},
     "output_type": "execute_result"
    }
   ],
   "source": [
    "objects = []\n",
    "for _,row in df.iterrows():\n",
    "    objects.append(f\"(\\'{row.id_source}\\', {row.ra}, {row.dec})\")\n",
    "objects_str = \",\\n\".join(objects)\n",
    "objects_str = \"()'source_1', 49.0189 +55.3074)\""
   ]
  },
  {
   "cell_type": "markdown",
   "metadata": {
    "ExecuteTime": {
     "end_time": "2021-04-02T17:36:00.076713Z",
     "start_time": "2021-04-02T17:36:00.067559Z"
    }
   },
   "source": [
    "Create query string"
   ]
  },
  {
   "cell_type": "code",
   "execution_count": 6,
   "metadata": {
    "ExecuteTime": {
     "end_time": "2021-04-11T21:19:08.759189Z",
     "start_time": "2021-04-11T21:19:08.257235Z"
    }
   },
   "outputs": [],
   "source": [
    "from astropy.time import Time\n",
    "nt = Time.now()\n",
    "last_mjd_discovery = nt.mjd - 10"
   ]
  },
  {
   "cell_type": "code",
   "execution_count": 1,
   "metadata": {
    "ExecuteTime": {
     "end_time": "2021-04-11T21:19:08.763613Z",
     "start_time": "2021-04-11T21:19:08.760570Z"
    }
   },
   "outputs": [
    {
     "ename": "NameError",
     "evalue": "name 'last_mjd_discovery' is not defined",
     "output_type": "error",
     "traceback": [
      "\u001b[1;31m---------------------------------------------------------------------------\u001b[0m",
      "\u001b[1;31mNameError\u001b[0m                                 Traceback (most recent call last)",
      "Cell \u001b[1;32mIn[1], line 19\u001b[0m\n\u001b[0;32m      1\u001b[0m search_radius \u001b[38;5;241m=\u001b[39m \u001b[38;5;241m1\u001b[39m \u001b[38;5;66;03m# degrees\u001b[39;00m\n\u001b[0;32m      2\u001b[0m query \u001b[38;5;241m=\u001b[39m \u001b[38;5;124m\"\"\"\u001b[39m\n\u001b[0;32m      3\u001b[0m \u001b[38;5;124mWITH catalog ( source_id, ra, dec) AS (\u001b[39m\n\u001b[0;32m      4\u001b[0m \u001b[38;5;124m    VALUES\u001b[39m\n\u001b[0;32m      5\u001b[0m \u001b[38;5;124m        \u001b[39m\u001b[38;5;132;01m{values}\u001b[39;00m\n\u001b[0;32m      6\u001b[0m \u001b[38;5;124m)\u001b[39m\n\u001b[0;32m      7\u001b[0m \u001b[38;5;124mSELECT \u001b[39m\n\u001b[0;32m      8\u001b[0m \u001b[38;5;124m    c.source_id, c.ra, c.dec, o.oid, o.meanra, o.meandec, q3c_dist(c.ra,c.dec,o.meanra,o.meandec), \u001b[39m\n\u001b[0;32m      9\u001b[0m \u001b[38;5;124m    o.firstmjd, o.ndethist, o.ndet\u001b[39m\n\u001b[0;32m     10\u001b[0m \n\u001b[0;32m     11\u001b[0m \u001b[38;5;124mFROM object o, catalog c\u001b[39m\n\u001b[0;32m     12\u001b[0m \u001b[38;5;124m    /*\u001b[39m\n\u001b[0;32m     13\u001b[0m \u001b[38;5;124m     * It is REALLY important to first use the catalog then the object ra,dec for speed. The radius is in degrees.\u001b[39m\n\u001b[0;32m     14\u001b[0m \u001b[38;5;124m     */\u001b[39m\n\u001b[0;32m     15\u001b[0m \u001b[38;5;124mWHERE\u001b[39m\n\u001b[0;32m     16\u001b[0m \u001b[38;5;124m    q3c_join(c.ra, c.dec,o.meanra, o.meandec, \u001b[39m\u001b[38;5;132;01m{radius}\u001b[39;00m\u001b[38;5;124m)\u001b[39m\n\u001b[0;32m     17\u001b[0m \u001b[38;5;124m    AND o.firstmjd > \u001b[39m\u001b[38;5;132;01m%s\u001b[39;00m\n\u001b[0;32m     18\u001b[0m \u001b[38;5;124m    AND o.ndethist < 5\u001b[39m\n\u001b[1;32m---> 19\u001b[0m \u001b[38;5;124m\"\"\"\u001b[39m \u001b[38;5;241m%\u001b[39m (\u001b[43mlast_mjd_discovery\u001b[49m)\n\u001b[0;32m     20\u001b[0m query_str \u001b[38;5;241m=\u001b[39m query\u001b[38;5;241m.\u001b[39mformat(values \u001b[38;5;241m=\u001b[39m objects_str, radius \u001b[38;5;241m=\u001b[39m search_radius)\n",
      "\u001b[1;31mNameError\u001b[0m: name 'last_mjd_discovery' is not defined"
     ]
    }
   ],
   "source": [
    "search_radius = 1 # degrees\n",
    "query = \"\"\"\n",
    "WITH catalog ( source_id, ra, dec) AS (\n",
    "    VALUES\n",
    "        {values}\n",
    ")\n",
    "SELECT \n",
    "    c.source_id, c.ra, c.dec, o.oid, o.meanra, o.meandec, q3c_dist(c.ra,c.dec,o.meanra,o.meandec), \n",
    "    o.firstmjd, o.ndethist, o.ndet\n",
    "\n",
    "FROM object o, catalog c\n",
    "    /*\n",
    "     * It is REALLY important to first use the catalog then the object ra,dec for speed. The radius is in degrees.\n",
    "     */\n",
    "WHERE\n",
    "    q3c_join(c.ra, c.dec,o.meanra, o.meandec, {radius})\n",
    "    AND o.firstmjd > %s\n",
    "    AND o.ndethist < 5\n",
    "\"\"\" % (last_mjd_discovery)\n",
    "query_str = query.format(values = objects_str, radius = search_radius) # radius in degrees"
   ]
  },
  {
   "cell_type": "code",
   "execution_count": 2,
   "metadata": {
    "ExecuteTime": {
     "end_time": "2021-04-11T21:19:10.736640Z",
     "start_time": "2021-04-11T21:19:08.765726Z"
    }
   },
   "outputs": [
    {
     "ename": "NameError",
     "evalue": "name 'pd' is not defined",
     "output_type": "error",
     "traceback": [
      "\u001b[1;31m---------------------------------------------------------------------------\u001b[0m",
      "\u001b[1;31mNameError\u001b[0m                                 Traceback (most recent call last)",
      "Cell \u001b[1;32mIn[2], line 1\u001b[0m\n\u001b[1;32m----> 1\u001b[0m matches \u001b[38;5;241m=\u001b[39m \u001b[43mpd\u001b[49m\u001b[38;5;241m.\u001b[39mread_sql(query_str,conn)\n\u001b[0;32m      2\u001b[0m \u001b[38;5;28mprint\u001b[39m(matches\u001b[38;5;241m.\u001b[39mshape)\n\u001b[0;32m      3\u001b[0m matches\n",
      "\u001b[1;31mNameError\u001b[0m: name 'pd' is not defined"
     ]
    }
   ],
   "source": [
    "matches = pd.read_sql(query_str,conn)\n",
    "print(matches.shape)\n",
    "matches"
   ]
  },
  {
   "cell_type": "markdown",
   "metadata": {},
   "source": [
    "# Query objects within 10 degress of given positions, first detected within the last 10 days, with SN probabilities > 0.4, and ranking=1 in the stamp classifier"
   ]
  },
  {
   "cell_type": "code",
   "execution_count": 9,
   "metadata": {
    "ExecuteTime": {
     "end_time": "2021-04-11T21:19:10.741996Z",
     "start_time": "2021-04-11T21:19:10.738665Z"
    }
   },
   "outputs": [],
   "source": [
    "search_radius = 10 # degrees\n",
    "query = \"\"\"\n",
    "WITH catalog ( source_id, ra, dec) AS (\n",
    "    VALUES\n",
    "        {values}\n",
    "),\n",
    "sn (oid, classifier_name, class_name, probability, ranking) AS (\n",
    "    SELECT\n",
    "        o.oid, p.classifier_name, p.class_name, p.probability, p.ranking\n",
    "    FROM\n",
    "        probability p\n",
    "    INNER JOIN \n",
    "        object o\n",
    "    ON \n",
    "        o.oid=p.oid\n",
    "    WHERE\n",
    "        p.classifier_name='stamp_classifier'\n",
    "        AND p.class_name IN ('SN')\n",
    "        AND p.ranking=1\n",
    "        AND p.probability > 0.4\n",
    "        AND o.firstmjd > {last_mjd_discovery}\n",
    ")\n",
    "\n",
    "SELECT \n",
    "    c.source_id, c.ra, c.dec, o.oid, o.meanra, o.meandec, q3c_dist(c.ra,c.dec,o.meanra,o.meandec), \n",
    "    o.firstmjd, sn.classifier_name, sn.class_name, sn.probability, sn.ranking\n",
    "\n",
    "FROM object o INNER JOIN sn ON sn.oid=o.oid, catalog c\n",
    "    /*\n",
    "     * It is REALLY important to first use the catalog then the object ra,dec for speed. The radius is in degrees.\n",
    "     */\n",
    "WHERE\n",
    "    q3c_join(c.ra, c.dec,o.meanra, o.meandec, {radius})\n",
    "    AND o.firstmjd > {last_mjd_discovery}\n",
    "ORDER BY\n",
    "    c.source_id\n",
    "\"\"\"\n",
    "query_str = query.format(values = objects_str, radius = search_radius, last_mjd_discovery=last_mjd_discovery) # radius in degrees"
   ]
  },
  {
   "cell_type": "code",
   "execution_count": 10,
   "metadata": {
    "ExecuteTime": {
     "end_time": "2021-04-11T21:19:18.998801Z",
     "start_time": "2021-04-11T21:19:10.743634Z"
    }
   },
   "outputs": [
    {
     "name": "stdout",
     "output_type": "stream",
     "text": [
      "(23, 12)\n"
     ]
    },
    {
     "data": {
      "text/html": [
       "<div>\n",
       "<style scoped>\n",
       "    .dataframe tbody tr th:only-of-type {\n",
       "        vertical-align: middle;\n",
       "    }\n",
       "\n",
       "    .dataframe tbody tr th {\n",
       "        vertical-align: top;\n",
       "    }\n",
       "\n",
       "    .dataframe thead th {\n",
       "        text-align: right;\n",
       "    }\n",
       "</style>\n",
       "<table border=\"1\" class=\"dataframe\">\n",
       "  <thead>\n",
       "    <tr style=\"text-align: right;\">\n",
       "      <th></th>\n",
       "      <th>source_id</th>\n",
       "      <th>ra</th>\n",
       "      <th>dec</th>\n",
       "      <th>oid</th>\n",
       "      <th>meanra</th>\n",
       "      <th>meandec</th>\n",
       "      <th>q3c_dist</th>\n",
       "      <th>firstmjd</th>\n",
       "      <th>classifier_name</th>\n",
       "      <th>class_name</th>\n",
       "      <th>probability</th>\n",
       "      <th>ranking</th>\n",
       "    </tr>\n",
       "  </thead>\n",
       "  <tbody>\n",
       "    <tr>\n",
       "      <th>0</th>\n",
       "      <td>source_1</td>\n",
       "      <td>160.183014</td>\n",
       "      <td>33.016467</td>\n",
       "      <td>ZTF21aasvhwh</td>\n",
       "      <td>166.770659</td>\n",
       "      <td>32.800088</td>\n",
       "      <td>5.533925</td>\n",
       "      <td>59306.372836</td>\n",
       "      <td>stamp_classifier</td>\n",
       "      <td>SN</td>\n",
       "      <td>0.707814</td>\n",
       "      <td>1</td>\n",
       "    </tr>\n",
       "    <tr>\n",
       "      <th>1</th>\n",
       "      <td>source_1</td>\n",
       "      <td>160.183014</td>\n",
       "      <td>33.016467</td>\n",
       "      <td>ZTF21aasuggn</td>\n",
       "      <td>166.212813</td>\n",
       "      <td>31.622934</td>\n",
       "      <td>5.281848</td>\n",
       "      <td>59308.227685</td>\n",
       "      <td>stamp_classifier</td>\n",
       "      <td>SN</td>\n",
       "      <td>0.430196</td>\n",
       "      <td>1</td>\n",
       "    </tr>\n",
       "    <tr>\n",
       "      <th>2</th>\n",
       "      <td>source_1</td>\n",
       "      <td>160.183014</td>\n",
       "      <td>33.016467</td>\n",
       "      <td>ZTF21aastzsn</td>\n",
       "      <td>148.786835</td>\n",
       "      <td>35.379685</td>\n",
       "      <td>9.711189</td>\n",
       "      <td>59310.249132</td>\n",
       "      <td>stamp_classifier</td>\n",
       "      <td>SN</td>\n",
       "      <td>0.793107</td>\n",
       "      <td>1</td>\n",
       "    </tr>\n",
       "    <tr>\n",
       "      <th>3</th>\n",
       "      <td>source_1</td>\n",
       "      <td>160.183014</td>\n",
       "      <td>33.016467</td>\n",
       "      <td>ZTF21aappwvm</td>\n",
       "      <td>165.757943</td>\n",
       "      <td>31.974741</td>\n",
       "      <td>4.815426</td>\n",
       "      <td>59308.227685</td>\n",
       "      <td>stamp_classifier</td>\n",
       "      <td>SN</td>\n",
       "      <td>0.661527</td>\n",
       "      <td>1</td>\n",
       "    </tr>\n",
       "    <tr>\n",
       "      <th>4</th>\n",
       "      <td>source_1</td>\n",
       "      <td>160.183014</td>\n",
       "      <td>33.016467</td>\n",
       "      <td>ZTF21aatuynj</td>\n",
       "      <td>154.108685</td>\n",
       "      <td>24.817833</td>\n",
       "      <td>9.766739</td>\n",
       "      <td>59312.234653</td>\n",
       "      <td>stamp_classifier</td>\n",
       "      <td>SN</td>\n",
       "      <td>0.816249</td>\n",
       "      <td>1</td>\n",
       "    </tr>\n",
       "    <tr>\n",
       "      <th>5</th>\n",
       "      <td>source_1</td>\n",
       "      <td>160.183014</td>\n",
       "      <td>33.016467</td>\n",
       "      <td>ZTF21aasuhnu</td>\n",
       "      <td>160.418486</td>\n",
       "      <td>26.539921</td>\n",
       "      <td>6.479763</td>\n",
       "      <td>59308.269213</td>\n",
       "      <td>stamp_classifier</td>\n",
       "      <td>SN</td>\n",
       "      <td>0.754478</td>\n",
       "      <td>1</td>\n",
       "    </tr>\n",
       "    <tr>\n",
       "      <th>6</th>\n",
       "      <td>source_1</td>\n",
       "      <td>160.183014</td>\n",
       "      <td>33.016467</td>\n",
       "      <td>ZTF21aalwdzx</td>\n",
       "      <td>151.070306</td>\n",
       "      <td>38.973164</td>\n",
       "      <td>9.469663</td>\n",
       "      <td>59314.267894</td>\n",
       "      <td>stamp_classifier</td>\n",
       "      <td>SN</td>\n",
       "      <td>0.412541</td>\n",
       "      <td>1</td>\n",
       "    </tr>\n",
       "    <tr>\n",
       "      <th>7</th>\n",
       "      <td>source_1</td>\n",
       "      <td>160.183014</td>\n",
       "      <td>33.016467</td>\n",
       "      <td>ZTF21aatxuyp</td>\n",
       "      <td>157.572440</td>\n",
       "      <td>37.975224</td>\n",
       "      <td>5.394375</td>\n",
       "      <td>59314.277234</td>\n",
       "      <td>stamp_classifier</td>\n",
       "      <td>SN</td>\n",
       "      <td>0.771551</td>\n",
       "      <td>1</td>\n",
       "    </tr>\n",
       "    <tr>\n",
       "      <th>8</th>\n",
       "      <td>source_1</td>\n",
       "      <td>160.183014</td>\n",
       "      <td>33.016467</td>\n",
       "      <td>ZTF21aardzlu</td>\n",
       "      <td>155.949496</td>\n",
       "      <td>42.275894</td>\n",
       "      <td>9.843950</td>\n",
       "      <td>59306.248542</td>\n",
       "      <td>stamp_classifier</td>\n",
       "      <td>SN</td>\n",
       "      <td>0.651708</td>\n",
       "      <td>1</td>\n",
       "    </tr>\n",
       "    <tr>\n",
       "      <th>9</th>\n",
       "      <td>source_1</td>\n",
       "      <td>160.183014</td>\n",
       "      <td>33.016467</td>\n",
       "      <td>ZTF21aaroydq</td>\n",
       "      <td>163.573451</td>\n",
       "      <td>34.238847</td>\n",
       "      <td>3.076112</td>\n",
       "      <td>59306.304271</td>\n",
       "      <td>stamp_classifier</td>\n",
       "      <td>SN</td>\n",
       "      <td>0.524896</td>\n",
       "      <td>1</td>\n",
       "    </tr>\n",
       "    <tr>\n",
       "      <th>10</th>\n",
       "      <td>source_1</td>\n",
       "      <td>160.183014</td>\n",
       "      <td>33.016467</td>\n",
       "      <td>ZTF21aardzpu</td>\n",
       "      <td>158.150706</td>\n",
       "      <td>38.960262</td>\n",
       "      <td>6.166557</td>\n",
       "      <td>59308.225984</td>\n",
       "      <td>stamp_classifier</td>\n",
       "      <td>SN</td>\n",
       "      <td>0.435725</td>\n",
       "      <td>1</td>\n",
       "    </tr>\n",
       "    <tr>\n",
       "      <th>11</th>\n",
       "      <td>source_1</td>\n",
       "      <td>160.183014</td>\n",
       "      <td>33.016467</td>\n",
       "      <td>ZTF21aarowtc</td>\n",
       "      <td>161.390183</td>\n",
       "      <td>39.823360</td>\n",
       "      <td>6.875642</td>\n",
       "      <td>59306.248542</td>\n",
       "      <td>stamp_classifier</td>\n",
       "      <td>SN</td>\n",
       "      <td>0.570181</td>\n",
       "      <td>1</td>\n",
       "    </tr>\n",
       "    <tr>\n",
       "      <th>12</th>\n",
       "      <td>source_1</td>\n",
       "      <td>160.183014</td>\n",
       "      <td>33.016467</td>\n",
       "      <td>ZTF21aarnbox</td>\n",
       "      <td>154.133940</td>\n",
       "      <td>39.014253</td>\n",
       "      <td>7.736225</td>\n",
       "      <td>59306.303229</td>\n",
       "      <td>stamp_classifier</td>\n",
       "      <td>SN</td>\n",
       "      <td>0.431122</td>\n",
       "      <td>1</td>\n",
       "    </tr>\n",
       "    <tr>\n",
       "      <th>13</th>\n",
       "      <td>source_1</td>\n",
       "      <td>160.183014</td>\n",
       "      <td>33.016467</td>\n",
       "      <td>ZTF21aasgnqa</td>\n",
       "      <td>150.838518</td>\n",
       "      <td>38.408163</td>\n",
       "      <td>9.299792</td>\n",
       "      <td>59308.264919</td>\n",
       "      <td>stamp_classifier</td>\n",
       "      <td>SN</td>\n",
       "      <td>0.471552</td>\n",
       "      <td>1</td>\n",
       "    </tr>\n",
       "    <tr>\n",
       "      <th>14</th>\n",
       "      <td>source_2</td>\n",
       "      <td>174.215249</td>\n",
       "      <td>44.837895</td>\n",
       "      <td>ZTF21aarohyu</td>\n",
       "      <td>180.167057</td>\n",
       "      <td>51.840932</td>\n",
       "      <td>8.036995</td>\n",
       "      <td>59307.262998</td>\n",
       "      <td>stamp_classifier</td>\n",
       "      <td>SN</td>\n",
       "      <td>0.836388</td>\n",
       "      <td>1</td>\n",
       "    </tr>\n",
       "    <tr>\n",
       "      <th>15</th>\n",
       "      <td>source_2</td>\n",
       "      <td>174.215249</td>\n",
       "      <td>44.837895</td>\n",
       "      <td>ZTF21aarwlht</td>\n",
       "      <td>163.528353</td>\n",
       "      <td>45.612058</td>\n",
       "      <td>7.561045</td>\n",
       "      <td>59307.238032</td>\n",
       "      <td>stamp_classifier</td>\n",
       "      <td>SN</td>\n",
       "      <td>0.677232</td>\n",
       "      <td>1</td>\n",
       "    </tr>\n",
       "    <tr>\n",
       "      <th>16</th>\n",
       "      <td>source_2</td>\n",
       "      <td>174.215249</td>\n",
       "      <td>44.837895</td>\n",
       "      <td>ZTF21aatwunv</td>\n",
       "      <td>175.477111</td>\n",
       "      <td>35.881612</td>\n",
       "      <td>9.007417</td>\n",
       "      <td>59315.197338</td>\n",
       "      <td>stamp_classifier</td>\n",
       "      <td>SN</td>\n",
       "      <td>0.489751</td>\n",
       "      <td>1</td>\n",
       "    </tr>\n",
       "    <tr>\n",
       "      <th>17</th>\n",
       "      <td>source_2</td>\n",
       "      <td>174.215249</td>\n",
       "      <td>44.837895</td>\n",
       "      <td>ZTF21aarxsfm</td>\n",
       "      <td>174.668285</td>\n",
       "      <td>41.758295</td>\n",
       "      <td>3.097186</td>\n",
       "      <td>59307.261493</td>\n",
       "      <td>stamp_classifier</td>\n",
       "      <td>SN</td>\n",
       "      <td>0.878125</td>\n",
       "      <td>1</td>\n",
       "    </tr>\n",
       "    <tr>\n",
       "      <th>18</th>\n",
       "      <td>source_2</td>\n",
       "      <td>174.215249</td>\n",
       "      <td>44.837895</td>\n",
       "      <td>ZTF21aarovmb</td>\n",
       "      <td>170.254855</td>\n",
       "      <td>53.174650</td>\n",
       "      <td>8.728681</td>\n",
       "      <td>59306.298993</td>\n",
       "      <td>stamp_classifier</td>\n",
       "      <td>SN</td>\n",
       "      <td>0.461672</td>\n",
       "      <td>1</td>\n",
       "    </tr>\n",
       "    <tr>\n",
       "      <th>19</th>\n",
       "      <td>source_2</td>\n",
       "      <td>174.215249</td>\n",
       "      <td>44.837895</td>\n",
       "      <td>ZTF21aardszu</td>\n",
       "      <td>175.154267</td>\n",
       "      <td>36.669955</td>\n",
       "      <td>8.198687</td>\n",
       "      <td>59307.233808</td>\n",
       "      <td>stamp_classifier</td>\n",
       "      <td>SN</td>\n",
       "      <td>0.697391</td>\n",
       "      <td>1</td>\n",
       "    </tr>\n",
       "    <tr>\n",
       "      <th>20</th>\n",
       "      <td>source_2</td>\n",
       "      <td>174.215249</td>\n",
       "      <td>44.837895</td>\n",
       "      <td>ZTF21aasyydo</td>\n",
       "      <td>174.845187</td>\n",
       "      <td>42.118591</td>\n",
       "      <td>2.757429</td>\n",
       "      <td>59311.175648</td>\n",
       "      <td>stamp_classifier</td>\n",
       "      <td>SN</td>\n",
       "      <td>0.717340</td>\n",
       "      <td>1</td>\n",
       "    </tr>\n",
       "    <tr>\n",
       "      <th>21</th>\n",
       "      <td>source_2</td>\n",
       "      <td>174.215249</td>\n",
       "      <td>44.837895</td>\n",
       "      <td>ZTF21aaszaoy</td>\n",
       "      <td>176.276831</td>\n",
       "      <td>53.616035</td>\n",
       "      <td>8.879774</td>\n",
       "      <td>59311.179491</td>\n",
       "      <td>stamp_classifier</td>\n",
       "      <td>SN</td>\n",
       "      <td>0.484196</td>\n",
       "      <td>1</td>\n",
       "    </tr>\n",
       "    <tr>\n",
       "      <th>22</th>\n",
       "      <td>source_2</td>\n",
       "      <td>174.215249</td>\n",
       "      <td>44.837895</td>\n",
       "      <td>ZTF21aarxuih</td>\n",
       "      <td>182.877322</td>\n",
       "      <td>41.887535</td>\n",
       "      <td>6.949494</td>\n",
       "      <td>59307.235220</td>\n",
       "      <td>stamp_classifier</td>\n",
       "      <td>SN</td>\n",
       "      <td>0.572513</td>\n",
       "      <td>1</td>\n",
       "    </tr>\n",
       "  </tbody>\n",
       "</table>\n",
       "</div>"
      ],
      "text/plain": [
       "   source_id          ra        dec           oid      meanra    meandec  \\\n",
       "0   source_1  160.183014  33.016467  ZTF21aasvhwh  166.770659  32.800088   \n",
       "1   source_1  160.183014  33.016467  ZTF21aasuggn  166.212813  31.622934   \n",
       "2   source_1  160.183014  33.016467  ZTF21aastzsn  148.786835  35.379685   \n",
       "3   source_1  160.183014  33.016467  ZTF21aappwvm  165.757943  31.974741   \n",
       "4   source_1  160.183014  33.016467  ZTF21aatuynj  154.108685  24.817833   \n",
       "5   source_1  160.183014  33.016467  ZTF21aasuhnu  160.418486  26.539921   \n",
       "6   source_1  160.183014  33.016467  ZTF21aalwdzx  151.070306  38.973164   \n",
       "7   source_1  160.183014  33.016467  ZTF21aatxuyp  157.572440  37.975224   \n",
       "8   source_1  160.183014  33.016467  ZTF21aardzlu  155.949496  42.275894   \n",
       "9   source_1  160.183014  33.016467  ZTF21aaroydq  163.573451  34.238847   \n",
       "10  source_1  160.183014  33.016467  ZTF21aardzpu  158.150706  38.960262   \n",
       "11  source_1  160.183014  33.016467  ZTF21aarowtc  161.390183  39.823360   \n",
       "12  source_1  160.183014  33.016467  ZTF21aarnbox  154.133940  39.014253   \n",
       "13  source_1  160.183014  33.016467  ZTF21aasgnqa  150.838518  38.408163   \n",
       "14  source_2  174.215249  44.837895  ZTF21aarohyu  180.167057  51.840932   \n",
       "15  source_2  174.215249  44.837895  ZTF21aarwlht  163.528353  45.612058   \n",
       "16  source_2  174.215249  44.837895  ZTF21aatwunv  175.477111  35.881612   \n",
       "17  source_2  174.215249  44.837895  ZTF21aarxsfm  174.668285  41.758295   \n",
       "18  source_2  174.215249  44.837895  ZTF21aarovmb  170.254855  53.174650   \n",
       "19  source_2  174.215249  44.837895  ZTF21aardszu  175.154267  36.669955   \n",
       "20  source_2  174.215249  44.837895  ZTF21aasyydo  174.845187  42.118591   \n",
       "21  source_2  174.215249  44.837895  ZTF21aaszaoy  176.276831  53.616035   \n",
       "22  source_2  174.215249  44.837895  ZTF21aarxuih  182.877322  41.887535   \n",
       "\n",
       "    q3c_dist      firstmjd   classifier_name class_name  probability  ranking  \n",
       "0   5.533925  59306.372836  stamp_classifier         SN     0.707814        1  \n",
       "1   5.281848  59308.227685  stamp_classifier         SN     0.430196        1  \n",
       "2   9.711189  59310.249132  stamp_classifier         SN     0.793107        1  \n",
       "3   4.815426  59308.227685  stamp_classifier         SN     0.661527        1  \n",
       "4   9.766739  59312.234653  stamp_classifier         SN     0.816249        1  \n",
       "5   6.479763  59308.269213  stamp_classifier         SN     0.754478        1  \n",
       "6   9.469663  59314.267894  stamp_classifier         SN     0.412541        1  \n",
       "7   5.394375  59314.277234  stamp_classifier         SN     0.771551        1  \n",
       "8   9.843950  59306.248542  stamp_classifier         SN     0.651708        1  \n",
       "9   3.076112  59306.304271  stamp_classifier         SN     0.524896        1  \n",
       "10  6.166557  59308.225984  stamp_classifier         SN     0.435725        1  \n",
       "11  6.875642  59306.248542  stamp_classifier         SN     0.570181        1  \n",
       "12  7.736225  59306.303229  stamp_classifier         SN     0.431122        1  \n",
       "13  9.299792  59308.264919  stamp_classifier         SN     0.471552        1  \n",
       "14  8.036995  59307.262998  stamp_classifier         SN     0.836388        1  \n",
       "15  7.561045  59307.238032  stamp_classifier         SN     0.677232        1  \n",
       "16  9.007417  59315.197338  stamp_classifier         SN     0.489751        1  \n",
       "17  3.097186  59307.261493  stamp_classifier         SN     0.878125        1  \n",
       "18  8.728681  59306.298993  stamp_classifier         SN     0.461672        1  \n",
       "19  8.198687  59307.233808  stamp_classifier         SN     0.697391        1  \n",
       "20  2.757429  59311.175648  stamp_classifier         SN     0.717340        1  \n",
       "21  8.879774  59311.179491  stamp_classifier         SN     0.484196        1  \n",
       "22  6.949494  59307.235220  stamp_classifier         SN     0.572513        1  "
      ]
     },
     "execution_count": 10,
     "metadata": {},
     "output_type": "execute_result"
    }
   ],
   "source": [
    "matches = pd.read_sql(query_str,conn)\n",
    "print(matches.shape)\n",
    "matches.head(100)"
   ]
  },
  {
   "cell_type": "markdown",
   "metadata": {},
   "source": [
    "Close the connection"
   ]
  },
  {
   "cell_type": "code",
   "execution_count": 10,
   "metadata": {
    "ExecuteTime": {
     "end_time": "2021-04-11T21:19:19.003542Z",
     "start_time": "2021-04-11T21:19:19.000766Z"
    }
   },
   "outputs": [],
   "source": [
    "conn.close()"
   ]
  },
  {
   "cell_type": "markdown",
   "metadata": {},
   "source": [
    "# Open the resulting objects in the ALeRCE explorer"
   ]
  },
  {
   "cell_type": "code",
   "execution_count": 11,
   "metadata": {
    "ExecuteTime": {
     "end_time": "2021-04-11T21:19:19.016548Z",
     "start_time": "2021-04-11T21:19:19.005683Z"
    }
   },
   "outputs": [
    {
     "name": "stdout",
     "output_type": "stream",
     "text": [
      "https://alerce.online/?oid=ZTF24aabvfwj&oid=ZTF24aabvlgp&oid=ZTF24aabvlbi&oid=ZTF24aabvlbj&oid=ZTF24aabvkon&oid=ZTF24aabvkom&oid=ZTF24aabvlgj&oid=ZTF24aabvlbg&oid=ZTF24aabvkok&oid=ZTF24aabvlbh&oid=ZTF24aabvlgi&oid=ZTF24aacamub&oid=ZTF24aacgwov&oid=ZTF24aacgwow&oid=ZTF24aacgwjl&oid=ZTF24aacgwjn&oid=ZTF24aacigkc&oid=ZTF24aacigka&oid=ZTF24aacigkb&oid=ZTF24aacieiv&oid=ZTF24aacigkd&oid=ZTF24aacigjz&oid=ZTF24aacifhk&oid=ZTF24aacifhg&oid=ZTF24aacifhm&oid=ZTF20acgxzxq&oid=ZTF24aacrhih&oid=ZTF24aacrhic&oid=ZTF24aacrohi&oid=ZTF24aacrohj&oid=ZTF24aacycbu&oid=ZTF24aacycbv&oid=ZTF24aacycbi&oid=ZTF24aacycad&oid=ZTF24aacycqg&oid=ZTF24aacycct&oid=ZTF24aacythv&oid=ZTF24aacytht&oid=ZTF24aacythu&oid=ZTF24aacythz&oid=ZTF24aacythy&oid=ZTF24aacythw&oid=ZTF24aaczhav&oid=ZTF24aaczhaw&oid=ZTF24aaczhmm&count=true&page=1&perPage=1000&sortDesc=false\n"
     ]
    }
   ],
   "source": [
    "url = \"https://alerce.online/?\" + \"&\".join([\"oid=%s\" % oid for oid in matches.oid.values]) + \"&count=true&page=1&perPage=1000&sortDesc=false\"\n",
    "print(url)"
   ]
  },
  {
   "cell_type": "code",
   "execution_count": null,
   "metadata": {},
   "outputs": [],
   "source": []
  }
 ],
 "metadata": {
  "kernelspec": {
   "display_name": "Python 3 (ipykernel)",
   "language": "python",
   "name": "python3"
  },
  "language_info": {
   "codemirror_mode": {
    "name": "ipython",
    "version": 3
   },
   "file_extension": ".py",
   "mimetype": "text/x-python",
   "name": "python",
   "nbconvert_exporter": "python",
   "pygments_lexer": "ipython3",
   "version": "3.10.9"
  },
  "toc": {
   "base_numbering": 1,
   "nav_menu": {},
   "number_sections": true,
   "sideBar": true,
   "skip_h1_title": false,
   "title_cell": "Table of Contents",
   "title_sidebar": "Contents",
   "toc_cell": false,
   "toc_position": {},
   "toc_section_display": true,
   "toc_window_display": true
  }
 },
 "nbformat": 4,
 "nbformat_minor": 4
}
